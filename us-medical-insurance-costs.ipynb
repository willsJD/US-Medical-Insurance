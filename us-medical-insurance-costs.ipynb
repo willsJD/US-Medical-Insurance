{
 "cells": [
  {
   "cell_type": "markdown",
   "metadata": {},
   "source": [
    "# U.S. Medical Insurance Costs Portfolio Project - Jack Wills\n",
    "\n",
    "\n",
    "## Objective:\n",
    "\n",
    "In this project I will attempt to take a csv file of example US medical insurance cost dataset from Codecademy, then use it to import, organise, sort and analyse the dataset.\n",
    "\n",
    "## Workflow:\n",
    "\n",
    "I decided to separate my entire project into sections as an attempt to create a workflow that I could follow and workthrough.  I separated the workflow into the following steps:\n",
    "<ul>\n",
    "    <li>Review the dataset</li>\n",
    "    <li>Decide how I would like to organise and analyse the data</li>\n",
    "    <li>Learn Markdown so I can present the information as such in Jupyter Notebooks</li>\n",
    "    <li>Breakdown the project by section, in Markdown, allowing for the python code to be added later (thus allowing goals to be set)</li>\n",
    "    <li>Start using Python3 fundementals to organise and analyse the data set</li>\n",
    "</ul>\n",
    "\n",
    "## Scope:\n",
    "\n",
    "Python3 will be used to organise and analyse the dataset in the follwing steps:\n",
    "\n",
    "<ol>\n",
    "    <li>Import the csv file into Python3</li>\n",
    "    <li>Separate the columns of the csv file into individual lists</li>\n",
    "    <li>Compile the lists into a dictionaries that can be organised by each category</li>\n",
    "    <li>Start to analyse the data by breaking down the data in to groups and compare it to other factors as to determine what affects the cost of medical insurance</li>\n",
    "    <li>Summarise the results</li>\n",
    "</ol>\n",
    "\n",
    "### Part 1 - Importing csv data to Python3\n",
    "\n",
    "Using the knowledge used in Python files, import the csv into Python so it is useable and readable:"
   ]
  },
  {
   "cell_type": "code",
   "execution_count": 111,
   "metadata": {},
   "outputs": [],
   "source": [
    "# First import csv libraries\n",
    "import csv\n",
    "\n",
    "# Then create indivdual lists as to store each column data into\n",
    "age = []\n",
    "sex = []\n",
    "bmi = []\n",
    "num_of_children = []\n",
    "smoker_status = []\n",
    "region = []\n",
    "cost = []\n",
    "\n",
    "# Next we can open the csv file and save the associated data to each predefined list:\n",
    "with open('insurance.csv', newline='') as insurance_csv:\n",
    "    insurance_data = csv.DictReader(insurance_csv)\n",
    "    for row in insurance_data:\n",
    "        age.append(row['age'])\n",
    "        sex.append(row['sex'])\n",
    "        bmi.append(row['bmi'])\n",
    "        num_of_children.append(row['children'])\n",
    "        smoker_status.append(row['smoker'])\n",
    "        region.append(row['region'])\n",
    "        cost.append(row['charges'])\n",
    "        \n"
   ]
  },
  {
   "cell_type": "markdown",
   "metadata": {},
   "source": [
    "We can check to see if the values have been saved correctly by printing any of the new lists:"
   ]
  },
  {
   "cell_type": "code",
   "execution_count": 125,
   "metadata": {},
   "outputs": [],
   "source": [
    "#print(cost)"
   ]
  },
  {
   "cell_type": "markdown",
   "metadata": {},
   "source": [
    "### Part 2 - How many records are there, and are they evenly split by sex and by smoker status (binomial data)?\n",
    "\n",
    "In this section we will find out how many rows or records of data there are, and how the dataset is split between sex and smoker status.\n",
    "\n",
    "Sex and smoker status are the only binomial data in this dataset:"
   ]
  },
  {
   "cell_type": "code",
   "execution_count": 73,
   "metadata": {},
   "outputs": [
    {
     "name": "stdout",
     "output_type": "stream",
     "text": [
      "There are 1338 records in this dataset.\n"
     ]
    }
   ],
   "source": [
    "# Calculate the total number of records by counting the rows (nb any list can be used)\n",
    "total_rows = 0\n",
    "\n",
    "for i in age:\n",
    "    total_rows += 1;\n",
    "\n",
    "print(\"There are \" + str(total_rows) + \" records in this dataset.\")"
   ]
  },
  {
   "cell_type": "markdown",
   "metadata": {},
   "source": [
    "Next we look at the split in the dataset bewtween sex and smoker status:"
   ]
  },
  {
   "cell_type": "code",
   "execution_count": 104,
   "metadata": {},
   "outputs": [
    {
     "name": "stdout",
     "output_type": "stream",
     "text": [
      "In the dataset the split between gender is 50.52% Male to 49.48% Female.  This is a fairly even split.\n",
      "In the dataset the split between smokers is 20.48% Smokers to 79.52% Non Smokers.\n"
     ]
    }
   ],
   "source": [
    "# First count the male and female sexes in the record and find the ratio of sex in the dataset\n",
    "\n",
    "male_count = 0\n",
    "female_count = 0\n",
    "\n",
    "for i in sex:\n",
    "    if i == \"male\":\n",
    "        male_count += 1\n",
    "    elif i == \"female\":\n",
    "        female_count += 1\n",
    "        \n",
    "male_pct = round(male_count / total_rows*100, 2)\n",
    "female_pct = round(female_count / total_rows*100, 2)\n",
    "        \n",
    "print(\"In the dataset the split between gender is {}% Male to {}% Female.  This is a fairly even split.\".format(male_pct, female_pct))\n",
    "\n",
    "\n",
    "#  Now we can apply the same to smoker status\n",
    "smoker_count = 0\n",
    "non_smoker_count = 0\n",
    "\n",
    "for i in smoker_status:\n",
    "    if i == \"yes\":\n",
    "        smoker_count += 1\n",
    "    elif i == \"no\":\n",
    "        non_smoker_count += 1\n",
    "        \n",
    "smoker_pct = round(smoker_count / total_rows*100, 2)\n",
    "non_smoker_pct = round(non_smoker_count / total_rows*100, 2)\n",
    "        \n",
    "print(\"In the dataset the split between smokers is {}% Smokers to {}% Non Smokers.\".format(smoker_pct, non_smoker_pct))"
   ]
  },
  {
   "cell_type": "markdown",
   "metadata": {},
   "source": [
    "We can also check to see the split by region if we wish to:"
   ]
  },
  {
   "cell_type": "code",
   "execution_count": 75,
   "metadata": {},
   "outputs": [
    {
     "name": "stdout",
     "output_type": "stream",
     "text": [
      "{'southwest': 325, 'southeast': 364, 'northwest': 325, 'northeast': 324}\n"
     ]
    }
   ],
   "source": [
    "# Create new dictionary to store regions and loop through regions list \n",
    "\n",
    "region_count = {}\n",
    "\n",
    "for i in region:\n",
    "    if i not in region_count:\n",
    "        region_count[i] = 1\n",
    "    else:\n",
    "        region_count[i] += 1\n",
    "        \n",
    "print(region_count)"
   ]
  },
  {
   "cell_type": "markdown",
   "metadata": {},
   "source": [
    "As we can see the regions are pretty evenly split into four quadrants.\n",
    "\n",
    "### Part 3 - Find Min, Max, Means and Medians of Insurance cost then compare groups\n",
    "\n",
    "Here we will take minimum and maximum insurance costs overall, the mean and then the median.  We can then compare the costs between female/male and smoker/non-smoker. (Note these can be accomplished also by inbuilt methods by importing statistics). \n"
   ]
  },
  {
   "cell_type": "code",
   "execution_count": 103,
   "metadata": {},
   "outputs": [
    {
     "name": "stdout",
     "output_type": "stream",
     "text": [
      "The minimum insurance cost in the dataset is $1121.87.  The maximum insurance cost is $63770.43.\n"
     ]
    }
   ],
   "source": [
    "# First we need to use list comprehension to transform the cost list to floats so we can use the data efficiently.\n",
    "\n",
    "new_cost = [float(i) for i in cost]\n",
    "\n",
    "min_cost = round(min(new_cost), 2)\n",
    "max_cost = round(max(new_cost), 2)\n",
    "\n",
    "print(\"The minimum insurance cost in the dataset is ${}.  The maximum insurance cost is ${}.\".format(min_cost, max_cost))"
   ]
  },
  {
   "cell_type": "code",
   "execution_count": 124,
   "metadata": {},
   "outputs": [
    {
     "name": "stdout",
     "output_type": "stream",
     "text": [
      "The mean insurance cost is $13270.42.\n",
      "The median insurance cost is $9382.03.\n"
     ]
    }
   ],
   "source": [
    "# To find the mean we take the total off all costs over the length of the list (using total_rows)\n",
    "mean_cost = round(sum(new_cost) / total_rows, 2)\n",
    "print(\"The mean insurance cost is ${}.\".format(mean_cost))\n",
    "\n",
    "# To find the median we use the premise n+1 / 2 for odd totals and n / 2 for even totals using the operator // for floor values\n",
    "new_cost.sort()\n",
    "\n",
    "if total_rows % 2 == 0:\n",
    "    median1 = new_cost[total_rows // 2]\n",
    "    median2 = new_cost[total_rows // 2 - 1]\n",
    "    median_cost = round((median1 + median2) / 2, 2)\n",
    "else:\n",
    "    median_cost = round(new_cost[total_rows // 2], 2)\n",
    "    \n",
    "print(\"The median insurance cost is ${}.\".format(median))"
   ]
  },
  {
   "cell_type": "code",
   "execution_count": 175,
   "metadata": {},
   "outputs": [],
   "source": [
    "# Create a function that takes in the parameters of gender or smoker status, options then finds the mean of the two and compares them\n",
    "\n",
    "def mean_diff(param, param1, param2):\n",
    "    with open(\"insurance.csv\") as data:\n",
    "        data_set = csv.DictReader(data)\n",
    "        param1_total = 0\n",
    "        param2_total = 0\n",
    "\n",
    "        param1_count = 0\n",
    "        param2_count = 0\n",
    "\n",
    "        for row in data_set:\n",
    "            if row[param] == param1:\n",
    "                param1_total += float(row['charges'])\n",
    "                param1_count += 1\n",
    "            elif row[param] == param2:\n",
    "                param2_total += float(row['charges'])\n",
    "                param2_count += 1\n",
    "\n",
    "        param1_mean = round((param1_total / param1_count), 2)\n",
    "        param2_mean = round((param2_total / param2_count), 2)\n",
    "        mean_difference = round((param1_mean - param2_mean), 2)\n",
    "                        \n",
    "        print(\"{} comparison:\\nThe mean insurance cost for {} is ${}.  The mean cost for {} is ${}.  The mean difference is ${}.\".format(param.capitalize(), param1.upper(), param1_mean, param2.upper(), param2_mean, mean_difference))\n",
    "                        \n"
   ]
  },
  {
   "cell_type": "markdown",
   "metadata": {},
   "source": [
    "Now we can run this function and input gender and smoker status to compare the two means:"
   ]
  },
  {
   "cell_type": "code",
   "execution_count": 176,
   "metadata": {},
   "outputs": [
    {
     "name": "stdout",
     "output_type": "stream",
     "text": [
      "Sex comparison:\n",
      "The mean insurance cost for MALE is $13956.75.  The mean cost for FEMALE is $12569.58.  The mean difference is $1387.17.\n",
      "Smoker comparison:\n",
      "The mean insurance cost for YES is $32050.23.  The mean cost for NO is $8434.27.  The mean difference is $23615.96.\n"
     ]
    }
   ],
   "source": [
    "mean_diff_gender = mean_diff('sex', 'male', 'female')\n",
    "mean_diff_smoker = mean_diff('smoker', 'yes', 'no')"
   ]
  },
  {
   "cell_type": "markdown",
   "metadata": {},
   "source": [
    "From this we can deduce that Males pay slightly more than females and smokers pay considerable mroe than non-smokers.\n",
    "\n",
    "We can go further and modify this function to see which region on average pays higher insurance:"
   ]
  },
  {
   "cell_type": "code",
   "execution_count": 171,
   "metadata": {},
   "outputs": [],
   "source": [
    "# Modify the above function and add more parameters\n",
    "\n",
    "def mean_by_region(param, param1, param2, param3, param4):\n",
    "    with open(\"insurance.csv\") as data:\n",
    "        data_set = csv.DictReader(data)\n",
    "        param1_total = 0\n",
    "        param2_total = 0\n",
    "        param3_total = 0\n",
    "        param4_total = 0\n",
    "\n",
    "        param1_count = 0\n",
    "        param2_count = 0\n",
    "        param3_count = 0\n",
    "        param4_count = 0\n",
    "\n",
    "        for row in data_set:\n",
    "            if row[param] == param1:\n",
    "                param1_total += float(row['charges'])\n",
    "                param1_count += 1\n",
    "            elif row[param] == param2:\n",
    "                param2_total += float(row['charges'])\n",
    "                param2_count += 1\n",
    "            elif row[param] == param3:\n",
    "                param3_total += float(row['charges'])\n",
    "                param3_count += 1\n",
    "            elif row[param] == param4:\n",
    "                param4_total += float(row['charges'])\n",
    "                param4_count += 1\n",
    "\n",
    "        param1_mean = round((param1_total / param1_count), 2)\n",
    "        param2_mean = round((param2_total / param2_count), 2)\n",
    "        param3_mean = round((param3_total / param3_count), 2)\n",
    "        param4_mean = round((param4_total / param4_count), 2)\n",
    "                        \n",
    "        print(\"Average insurance cost per region:\")\n",
    "        print(\"{}: ${}\".format(param1.capitalize(), param1_mean))\n",
    "        print(\"{}: ${}\".format(param2.capitalize(), param2_mean))\n",
    "        print(\"{}: ${}\".format(param3.capitalize(), param3_mean))\n",
    "        print(\"{}: ${}\".format(param4.capitalize(), param4_mean))\n",
    "     "
   ]
  },
  {
   "cell_type": "markdown",
   "metadata": {},
   "source": [
    "By running this function we should get the following means per region:"
   ]
  },
  {
   "cell_type": "code",
   "execution_count": 172,
   "metadata": {},
   "outputs": [
    {
     "name": "stdout",
     "output_type": "stream",
     "text": [
      "Average insurance cost per region:\n",
      "Southwest: $12346.94\n",
      "Southeast: $14735.41\n",
      "Northwest: $12417.58\n",
      "Northeast: $13406.38\n"
     ]
    }
   ],
   "source": [
    "mean_region = mean_by_region('region', 'southwest', 'southeast', 'northwest', 'northeast')"
   ]
  },
  {
   "cell_type": "markdown",
   "metadata": {},
   "source": [
    "From this we can deduce that the Eastern side of the country is paying slightly more for health inusrance.\n",
    "\n",
    "### Part 4 - Break down the Age and BMI groups and compare insurance cost\n",
    "\n",
    "For this we will categorize the ages and bmi into groups. (Please note BMI is not a definitive staistic of health as there are numerous factors involved, these are set by the WHO and vary around the globe but are used to calculate health inusrance in the U.S.)\n",
    "\n",
    "First we can breakdown our dataset by age and compare the costs:"
   ]
  },
  {
   "cell_type": "code",
   "execution_count": 217,
   "metadata": {},
   "outputs": [
    {
     "name": "stdout",
     "output_type": "stream",
     "text": [
      "18\n",
      "64\n"
     ]
    }
   ],
   "source": [
    "# First check to what the min and max ages are\n",
    "min_age = min([int(i) for i in age])\n",
    "max_age = max([int(i) for i in age])\n",
    "print(min_age)\n",
    "print(max_age)"
   ]
  },
  {
   "cell_type": "code",
   "execution_count": 216,
   "metadata": {},
   "outputs": [
    {
     "name": "stdout",
     "output_type": "stream",
     "text": [
      "18\n",
      "64\n"
     ]
    }
   ],
   "source": [
    "# Now we can break the set into age groups and calculate mean insurance by group\n",
    "def mean_age_diff(age):\n",
    "    with open(\"insurance.csv\") as data:\n",
    "        data_set = csv.DictReader(data)\n",
    "        total_18_25 = 0\n",
    "        total_26_35 = 0\n",
    "        total_36_45 = 0\n",
    "        total_46_55 = 0\n",
    "        total_56_65 = 0\n",
    "\n",
    "        count_18_25 = 0\n",
    "        count_26_35 = 0\n",
    "        count_36_45 = 0\n",
    "        count_46_55 = 0\n",
    "        count_56_65 = 0\n",
    "\n",
    "        for row in data_set:\n",
    "            if int(row[age]) >= 18 and int(row[age]) <= 25:\n",
    "                total_18_25 += float(row['charges'])\n",
    "                count_18_25 += 1\n",
    "            elif int(row[age]) >= 26 and int(row[age]) <= 35:\n",
    "                total_26_35 += float(row['charges'])\n",
    "                count_26_35 += 1\n",
    "            elif int(row[age]) >= 36 and int(row[age]) <= 45:\n",
    "                total_36_45 += float(row['charges'])\n",
    "                count_36_45 += 1\n",
    "            elif int(row[age]) >= 46 and int(row[age]) <= 55:\n",
    "                total_46_55 += float(row['charges'])\n",
    "                count_46_55 += 1\n",
    "            elif int(row[age]) >= 56 and int(row[age]) <= 65:\n",
    "                total_56_65 += float(row['charges'])\n",
    "                count_56_65 += 1\n",
    "\n",
    "        mean_18_25 = round((total_18_25 / count_18_25), 2)\n",
    "        mean_26_35 = round((total_26_35 / count_26_35), 2)\n",
    "        mean_36_45 = round((total_36_45 / count_36_45), 2)\n",
    "        mean_46_55 = round((total_46_55 / count_46_55), 2)\n",
    "        mean_56_65 = round((total_56_65 / count_56_65), 2)\n",
    "                                \n",
    "        print(\"The mean insurance cost for the 18 to 25 group is ${}\".format(mean_18_25))\n",
    "        print(\"The mean insurance cost for the 26 to 35 group is ${}\".format(mean_26_35))\n",
    "        print(\"The mean insurance cost for the 36 to 45 group is ${}\".format(mean_36_45))\n",
    "        print(\"The mean insurance cost for the 46 to 55 group is ${}\".format(mean_46_55))\n",
    "        print(\"The mean insurance cost for the 56 to 65 group is ${}\".format(mean_56_65))"
   ]
  },
  {
   "cell_type": "code",
   "execution_count": 215,
   "metadata": {},
   "outputs": [
    {
     "name": "stdout",
     "output_type": "stream",
     "text": [
      "The mean insurance cost for the 18 to 25 group is $9087.02\n",
      "The mean insurance cost for the 26 to 35 group is $10495.16\n",
      "The mean insurance cost for the 36 to 45 group is $13493.49\n",
      "The mean insurance cost for the 46 to 55 group is $15986.9\n",
      "The mean insurance cost for the 56 to 65 group is $18795.99\n"
     ]
    }
   ],
   "source": [
    "mean_age = (mean_age_diff('age'))"
   ]
  },
  {
   "cell_type": "markdown",
   "metadata": {},
   "source": [
    "There is a gradual increase of insurance cost with age.\n",
    "\n",
    "Now we can do the same and divide by BMI group:\n",
    "\n",
    "To calculate BMI, see the Adult BMI Calculator or determine BMI by finding your height and weight in this BMI Index Chart.\n",
    "\n",
    "   - If your BMI is less than 18.5, it falls within the underweight range.\n",
    "   - If your BMI is 18.5 to <25, it falls within the healthy weight range.\n",
    "   - If your BMI is 25.0 to <30, it falls within the overweight range.\n",
    "   - If your BMI is 30.0 or higher, it falls within the obesity range."
   ]
  },
  {
   "cell_type": "code",
   "execution_count": 225,
   "metadata": {},
   "outputs": [],
   "source": [
    "# Now we can break the set into bmi groups and calculate mean insurance by group\n",
    "def mean_bmi_diff(bmi):\n",
    "    with open(\"insurance.csv\") as data:\n",
    "        data_set = csv.DictReader(data)\n",
    "        total_underweight = 0\n",
    "        total_normal = 0\n",
    "        total_overweight = 0\n",
    "        total_obese = 0\n",
    "\n",
    "        count_underweight = 0\n",
    "        count_normal = 0\n",
    "        count_overweight = 0\n",
    "        count_obese = 0\n",
    "\n",
    "        for row in data_set:\n",
    "            if float(row[bmi]) < 18.5:\n",
    "                total_underweight += float(row['charges'])\n",
    "                count_underweight += 1\n",
    "            elif float(row[bmi]) >= 18.5 and float(row[bmi]) < 25:\n",
    "                total_normal += float(row['charges'])\n",
    "                count_normal += 1\n",
    "            elif float(row[bmi]) >= 25 and float(row[bmi]) < 30:\n",
    "                total_overweight += float(row['charges'])\n",
    "                count_overweight += 1\n",
    "            elif float(row[bmi]) >= 30:\n",
    "                total_obese += float(row['charges'])\n",
    "                count_obese += 1\n",
    "                \n",
    "        mean_underweight = round((total_underweight / count_underweight), 2)\n",
    "        mean_normal = round((total_normal / count_normal), 2)\n",
    "        mean_overweight = round((total_overweight / count_overweight), 2)\n",
    "        mean_obese = round((total_obese / count_obese), 2)\n",
    "                                \n",
    "        print(\"The mean insurance cost for the UNDERWEIGHT group is ${}\".format(mean_underweight))\n",
    "        print(\"The mean insurance cost for the NORMAL group is ${}\".format(mean_normal))\n",
    "        print(\"The mean insurance cost for the OVERWEIGHT group is ${}\".format(mean_overweight))\n",
    "        print(\"The mean insurance cost for the OBESE group is ${}\".format(mean_obese))"
   ]
  },
  {
   "cell_type": "code",
   "execution_count": 226,
   "metadata": {},
   "outputs": [
    {
     "name": "stdout",
     "output_type": "stream",
     "text": [
      "The mean insurance cost for the UNDERWEIGHT group is $8852.2\n",
      "The mean insurance cost for the NORMAL group is $10409.34\n",
      "The mean insurance cost for the OVERWEIGHT group is $10987.51\n",
      "The mean insurance cost for the OBESE group is $15552.34\n"
     ]
    }
   ],
   "source": [
    "mean_bmi = (mean_bmi_diff('bmi'))"
   ]
  },
  {
   "cell_type": "markdown",
   "metadata": {},
   "source": [
    "Here we can see that an increse of BMI also increases insurance cost.\n",
    "\n",
    "Now for the final statistical breakdown we will assess by number of children:"
   ]
  },
  {
   "cell_type": "code",
   "execution_count": 229,
   "metadata": {},
   "outputs": [
    {
     "name": "stdout",
     "output_type": "stream",
     "text": [
      "5\n"
     ]
    }
   ],
   "source": [
    "# First determine the max amount of children in the dataset\n",
    "max_children = max([int(i) for i in num_of_children])\n",
    "print(max_children)"
   ]
  },
  {
   "cell_type": "code",
   "execution_count": 246,
   "metadata": {},
   "outputs": [],
   "source": [
    "# Break the set into num of children groups and calculate mean insurance by group\n",
    "def mean_child_diff(child):\n",
    "    with open(\"insurance.csv\") as data:\n",
    "        data_set = csv.DictReader(data)\n",
    "        child_0 = 0\n",
    "        child_1 = 0\n",
    "        child_2 = 0\n",
    "        child_3 = 0\n",
    "        child_4 = 0\n",
    "        child_5_plus = 0 \n",
    "\n",
    "        count_0 = 0\n",
    "        count_1 = 0\n",
    "        count_2 = 0\n",
    "        count_3 = 0\n",
    "        count_4 = 0\n",
    "        count_5_plus = 0\n",
    "\n",
    "        for row in data_set:\n",
    "            if int(row[child]) == 0:\n",
    "                child_0 += float(row['charges'])\n",
    "                count_0 += 1\n",
    "            elif int(row[child]) == 1:\n",
    "                child_1 += float(row['charges'])\n",
    "                count_1 += 1\n",
    "            elif int(row[child]) == 2:\n",
    "                child_2 += float(row['charges'])\n",
    "                count_2 += 1\n",
    "            elif int(row[child]) == 3:\n",
    "                child_3 += float(row['charges'])\n",
    "                count_3 += 1\n",
    "            elif int(row[child]) == 4:\n",
    "                child_4 += float(row['charges'])\n",
    "                count_4 += 1\n",
    "            elif int(row[child]) >= 5:\n",
    "                child_5_plus += float(row['charges'])\n",
    "                count_5_plus += 1\n",
    "                \n",
    "        mean_0 = round((child_0 / count_0), 2)\n",
    "        mean_1 = round((child_1 / count_1), 2)\n",
    "        mean_2 = round((child_2 / count_2), 2)\n",
    "        mean_3 = round((child_3 / count_3), 2)\n",
    "        mean_4 = round((child_4 / count_4), 2)\n",
    "        mean_5_plus = round((child_5_plus / count_5_plus), 2)\n",
    "                                \n",
    "        print(\"The mean insurance cost for zero children is ${}\".format(mean_0))\n",
    "        print(\"The mean insurance cost for one child is ${}\".format(mean_1))\n",
    "        print(\"The mean insurance cost for two children is ${}\".format(mean_2))\n",
    "        print(\"The mean insurance cost for three children is ${}\".format(mean_3))\n",
    "        print(\"The mean insurance cost for four children is ${}\".format(mean_4))\n",
    "        print(\"The mean insurance cost for five or more children is ${}\".format(mean_5_plus))"
   ]
  },
  {
   "cell_type": "code",
   "execution_count": 247,
   "metadata": {},
   "outputs": [
    {
     "name": "stdout",
     "output_type": "stream",
     "text": [
      "The mean insurance cost for zero children is $12365.98\n",
      "The mean insurance cost for one child is $12731.17\n",
      "The mean insurance cost for two children is $15073.56\n",
      "The mean insurance cost for three children is $15355.32\n",
      "The mean insurance cost for four children is $13850.66\n",
      "The mean insurance cost for five or more children is $8786.04\n"
     ]
    }
   ],
   "source": [
    "mean_children = (mean_child_diff('children'))"
   ]
  },
  {
   "cell_type": "markdown",
   "metadata": {},
   "source": [
    "From the above we can deduce that with more children insurance cost rises with more children until the number of four which then it begins to reduce.  \n",
    "\n",
    "#### Explanation: \n",
    "The price should increase with more children if the formula for the insurance cost is:\n",
    "\n",
    "insurance_cost=250∗age−128∗sex+370∗bmi+425∗num_of_children+24000∗smoker−12500​\n",
    "\n",
    "However we can see it does not.  Posiibilities could include that people with four or more children have lower bmi and/or are non smokers.  Future analysis and comparison in this area would possibly yield results."
   ]
  },
  {
   "cell_type": "markdown",
   "metadata": {},
   "source": [
    "## Conclusion\n",
    "\n",
    "In this project we have found that the dataset was quite evenly split across all binomial data aside form there were more non-smokers than smokers.\n",
    "\n",
    "We have established that the western region is lower in cost to the eastern region. Futher analysis would be worht looking into to see if factors in these regions attribute to the difference in cost.\n",
    "\n",
    "Cost also rises per age group and BMI group which is predictable.  However, cost did fall with four or more children.  This anomalous result could be explored to see if there is any correlation bewteen cost and number of children.\n",
    "\n",
    "\n",
    "## Learning Outcomes\n",
    "\n",
    "I have thouroughly enjoyed this project and it has helped me understand and practice Python fundementals. I presented my project through skills learnt through the Python fundementals course with Codecademy and used Python documentation and web searches to help futher my knowledge and skills.  In the process I have learnt how to use Markdown and in the Jupyter Notebook environment.\n",
    "\n",
    "JDWills"
   ]
  }
 ],
 "metadata": {
  "kernelspec": {
   "display_name": "Python 3 (ipykernel)",
   "language": "python",
   "name": "python3"
  },
  "language_info": {
   "codemirror_mode": {
    "name": "ipython",
    "version": 3
   },
   "file_extension": ".py",
   "mimetype": "text/x-python",
   "name": "python",
   "nbconvert_exporter": "python",
   "pygments_lexer": "ipython3",
   "version": "3.9.13"
  }
 },
 "nbformat": 4,
 "nbformat_minor": 4
}
